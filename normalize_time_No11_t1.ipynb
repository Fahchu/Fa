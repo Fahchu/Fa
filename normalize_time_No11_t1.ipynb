{
 "cells": [
  {
   "cell_type": "code",
   "execution_count": 25,
   "id": "fff9e9e5-c508-4f0f-94ac-cbe18021794f",
   "metadata": {},
   "outputs": [],
   "source": [
    "import os\n",
    "import numpy as np\n",
    "import pandas as pd\n",
    "import matplotlib.pyplot as plt"
   ]
  },
  {
   "cell_type": "code",
   "execution_count": 27,
   "id": "9e0f0eb7-04bc-41eb-968f-412292b82ba1",
   "metadata": {},
   "outputs": [
    {
     "name": "stdout",
     "output_type": "stream",
     "text": [
      "C:\\Users\\MY PC\\No11time\\No11_200325_t1.csv\n"
     ]
    }
   ],
   "source": [
    "# import raw data file path\n",
    "PATH = os.getcwd()\n",
    "raw_data_path = os.path.join(PATH,'No11_200325_t1.csv')\n",
    "print(raw_data_path)"
   ]
  },
  {
   "cell_type": "code",
   "execution_count": 29,
   "id": "33f61e8b-bd9d-4cec-8e05-a18d21dd3df4",
   "metadata": {},
   "outputs": [],
   "source": [
    "# read raw data with panda\n",
    "raw_df = pd.read_csv(raw_data_path)"
   ]
  },
  {
   "cell_type": "code",
   "execution_count": 31,
   "id": "2a6ab5db-d3de-44ac-a477-52a689c5210d",
   "metadata": {},
   "outputs": [
    {
     "data": {
      "text/html": [
       "<div>\n",
       "<style scoped>\n",
       "    .dataframe tbody tr th:only-of-type {\n",
       "        vertical-align: middle;\n",
       "    }\n",
       "\n",
       "    .dataframe tbody tr th {\n",
       "        vertical-align: top;\n",
       "    }\n",
       "\n",
       "    .dataframe thead th {\n",
       "        text-align: right;\n",
       "    }\n",
       "</style>\n",
       "<table border=\"1\" class=\"dataframe\">\n",
       "  <thead>\n",
       "    <tr style=\"text-align: right;\">\n",
       "      <th></th>\n",
       "      <th>time</th>\n",
       "      <th>abs</th>\n",
       "    </tr>\n",
       "  </thead>\n",
       "  <tbody>\n",
       "    <tr>\n",
       "      <th>0</th>\n",
       "      <td>1</td>\n",
       "      <td>-0.003646</td>\n",
       "    </tr>\n",
       "    <tr>\n",
       "      <th>1</th>\n",
       "      <td>2</td>\n",
       "      <td>-0.004067</td>\n",
       "    </tr>\n",
       "    <tr>\n",
       "      <th>2</th>\n",
       "      <td>3</td>\n",
       "      <td>-0.003549</td>\n",
       "    </tr>\n",
       "    <tr>\n",
       "      <th>3</th>\n",
       "      <td>4</td>\n",
       "      <td>-0.003370</td>\n",
       "    </tr>\n",
       "    <tr>\n",
       "      <th>4</th>\n",
       "      <td>5</td>\n",
       "      <td>-0.002764</td>\n",
       "    </tr>\n",
       "    <tr>\n",
       "      <th>...</th>\n",
       "      <td>...</td>\n",
       "      <td>...</td>\n",
       "    </tr>\n",
       "    <tr>\n",
       "      <th>2290</th>\n",
       "      <td>2291</td>\n",
       "      <td>0.001472</td>\n",
       "    </tr>\n",
       "    <tr>\n",
       "      <th>2291</th>\n",
       "      <td>2292</td>\n",
       "      <td>0.000577</td>\n",
       "    </tr>\n",
       "    <tr>\n",
       "      <th>2292</th>\n",
       "      <td>2293</td>\n",
       "      <td>0.005806</td>\n",
       "    </tr>\n",
       "    <tr>\n",
       "      <th>2293</th>\n",
       "      <td>2294</td>\n",
       "      <td>0.000068</td>\n",
       "    </tr>\n",
       "    <tr>\n",
       "      <th>2294</th>\n",
       "      <td>2295</td>\n",
       "      <td>0.001091</td>\n",
       "    </tr>\n",
       "  </tbody>\n",
       "</table>\n",
       "<p>2295 rows × 2 columns</p>\n",
       "</div>"
      ],
      "text/plain": [
       "      time       abs\n",
       "0        1 -0.003646\n",
       "1        2 -0.004067\n",
       "2        3 -0.003549\n",
       "3        4 -0.003370\n",
       "4        5 -0.002764\n",
       "...    ...       ...\n",
       "2290  2291  0.001472\n",
       "2291  2292  0.000577\n",
       "2292  2293  0.005806\n",
       "2293  2294  0.000068\n",
       "2294  2295  0.001091\n",
       "\n",
       "[2295 rows x 2 columns]"
      ]
     },
     "execution_count": 31,
     "metadata": {},
     "output_type": "execute_result"
    }
   ],
   "source": [
    "raw_df"
   ]
  },
  {
   "cell_type": "code",
   "execution_count": 33,
   "id": "4665f603-c329-4521-a6bd-9b1735d5b3c8",
   "metadata": {},
   "outputs": [],
   "source": [
    "raw_df.columns = raw_df.columns.str.strip()"
   ]
  },
  {
   "cell_type": "code",
   "execution_count": 35,
   "id": "2985d19b-aa10-4056-a34d-898c660209b0",
   "metadata": {},
   "outputs": [
    {
     "data": {
      "text/plain": [
       "Index(['time', 'abs'], dtype='object')"
      ]
     },
     "execution_count": 35,
     "metadata": {},
     "output_type": "execute_result"
    }
   ],
   "source": [
    "raw_df.columns"
   ]
  },
  {
   "cell_type": "code",
   "execution_count": 37,
   "id": "759a4497-81ca-4b11-bbad-9aaf330741fc",
   "metadata": {},
   "outputs": [
    {
     "data": {
      "text/html": [
       "<div>\n",
       "<style scoped>\n",
       "    .dataframe tbody tr th:only-of-type {\n",
       "        vertical-align: middle;\n",
       "    }\n",
       "\n",
       "    .dataframe tbody tr th {\n",
       "        vertical-align: top;\n",
       "    }\n",
       "\n",
       "    .dataframe thead th {\n",
       "        text-align: right;\n",
       "    }\n",
       "</style>\n",
       "<table border=\"1\" class=\"dataframe\">\n",
       "  <thead>\n",
       "    <tr style=\"text-align: right;\">\n",
       "      <th></th>\n",
       "      <th>time</th>\n",
       "      <th>abs</th>\n",
       "      <th>ตัวแปรไร้หน่วย (θ)</th>\n",
       "    </tr>\n",
       "  </thead>\n",
       "  <tbody>\n",
       "    <tr>\n",
       "      <th>0</th>\n",
       "      <td>1</td>\n",
       "      <td>-0.003646</td>\n",
       "      <td>0.001744</td>\n",
       "    </tr>\n",
       "    <tr>\n",
       "      <th>1</th>\n",
       "      <td>2</td>\n",
       "      <td>-0.004067</td>\n",
       "      <td>0.003487</td>\n",
       "    </tr>\n",
       "    <tr>\n",
       "      <th>2</th>\n",
       "      <td>3</td>\n",
       "      <td>-0.003549</td>\n",
       "      <td>0.005231</td>\n",
       "    </tr>\n",
       "    <tr>\n",
       "      <th>3</th>\n",
       "      <td>4</td>\n",
       "      <td>-0.003370</td>\n",
       "      <td>0.006974</td>\n",
       "    </tr>\n",
       "    <tr>\n",
       "      <th>4</th>\n",
       "      <td>5</td>\n",
       "      <td>-0.002764</td>\n",
       "      <td>0.008718</td>\n",
       "    </tr>\n",
       "    <tr>\n",
       "      <th>...</th>\n",
       "      <td>...</td>\n",
       "      <td>...</td>\n",
       "      <td>...</td>\n",
       "    </tr>\n",
       "    <tr>\n",
       "      <th>2290</th>\n",
       "      <td>2291</td>\n",
       "      <td>0.001472</td>\n",
       "      <td>3.994490</td>\n",
       "    </tr>\n",
       "    <tr>\n",
       "      <th>2291</th>\n",
       "      <td>2292</td>\n",
       "      <td>0.000577</td>\n",
       "      <td>3.996234</td>\n",
       "    </tr>\n",
       "    <tr>\n",
       "      <th>2292</th>\n",
       "      <td>2293</td>\n",
       "      <td>0.005806</td>\n",
       "      <td>3.997977</td>\n",
       "    </tr>\n",
       "    <tr>\n",
       "      <th>2293</th>\n",
       "      <td>2294</td>\n",
       "      <td>0.000068</td>\n",
       "      <td>3.999721</td>\n",
       "    </tr>\n",
       "    <tr>\n",
       "      <th>2294</th>\n",
       "      <td>2295</td>\n",
       "      <td>0.001091</td>\n",
       "      <td>4.001465</td>\n",
       "    </tr>\n",
       "  </tbody>\n",
       "</table>\n",
       "<p>2295 rows × 3 columns</p>\n",
       "</div>"
      ],
      "text/plain": [
       "      time       abs  ตัวแปรไร้หน่วย (θ)\n",
       "0        1 -0.003646            0.001744\n",
       "1        2 -0.004067            0.003487\n",
       "2        3 -0.003549            0.005231\n",
       "3        4 -0.003370            0.006974\n",
       "4        5 -0.002764            0.008718\n",
       "...    ...       ...                 ...\n",
       "2290  2291  0.001472            3.994490\n",
       "2291  2292  0.000577            3.996234\n",
       "2292  2293  0.005806            3.997977\n",
       "2293  2294  0.000068            3.999721\n",
       "2294  2295  0.001091            4.001465\n",
       "\n",
       "[2295 rows x 3 columns]"
      ]
     },
     "execution_count": 37,
     "metadata": {},
     "output_type": "execute_result"
    }
   ],
   "source": [
    "raw_df['ตัวแปรไร้หน่วย (θ)'] = raw_df['time'] /573.54\n",
    "raw_df"
   ]
  },
  {
   "cell_type": "code",
   "execution_count": 39,
   "id": "5b7b9cd3-4a30-482a-bd1b-ba5ca1ff68e5",
   "metadata": {},
   "outputs": [],
   "source": [
    "raw_df['C'] =  raw_df['abs']"
   ]
  },
  {
   "cell_type": "code",
   "execution_count": 41,
   "id": "e068fd95-3949-4fa1-89a3-4a2629205411",
   "metadata": {},
   "outputs": [],
   "source": [
    "# rescale time span\n",
    "raw_df = raw_df[0:2295]"
   ]
  },
  {
   "cell_type": "code",
   "execution_count": 43,
   "id": "3c144c62-29cf-4916-858b-0e7c148bca4f",
   "metadata": {},
   "outputs": [
    {
     "data": {
      "text/plain": [
       "0       0.001744\n",
       "1       0.003487\n",
       "2       0.005231\n",
       "3       0.006974\n",
       "4       0.008718\n",
       "          ...   \n",
       "2290    3.994490\n",
       "2291    3.996234\n",
       "2292    3.997977\n",
       "2293    3.999721\n",
       "2294    4.001465\n",
       "Name: ตัวแปรไร้หน่วย (θ), Length: 2295, dtype: float64"
      ]
     },
     "execution_count": 43,
     "metadata": {},
     "output_type": "execute_result"
    }
   ],
   "source": [
    "raw_df['ตัวแปรไร้หน่วย (θ)']"
   ]
  },
  {
   "cell_type": "code",
   "execution_count": 49,
   "id": "3bb38adc-619c-4d21-865c-49b06176c0bd",
   "metadata": {},
   "outputs": [
    {
     "data": {
      "text/plain": [
       "[<matplotlib.lines.Line2D at 0x17ee2db0e00>]"
      ]
     },
     "execution_count": 49,
     "metadata": {},
     "output_type": "execute_result"
    },
    {
     "data": {
      "image/png": "[encoded data removed]",
      "text/plain": [
       "<Figure size 640x480 with 1 Axes>"
      ]
     },
     "metadata": {},
     "output_type": "display_data"
    }
   ],
   "source": [
    "# plot the data to observe data points\n",
    "plt.plot(raw_df['ตัวแปรไร้หน่วย (θ)'], raw_df['abs'], '-')"
   ]
  },
  {
   "cell_type": "code",
   "execution_count": 47,
   "id": "e2c2cc0a-ba91-443a-a16d-10bc1d369a6b",
   "metadata": {},
   "outputs": [],
   "source": [
    "# save the data set to csv\n",
    "raw_df.to_csv('No11_200325_t1_nor.csv', index=False)"
   ]
  },
  {
   "cell_type": "code",
   "execution_count": null,
   "id": "f03e86c9-17a9-4754-abb7-476d719f8266",
   "metadata": {},
   "outputs": [],
   "source": []
  },
  {
   "cell_type": "code",
   "execution_count": null,
   "id": "2422fb1d-371c-4755-ad0d-65385991ce77",
   "metadata": {},
   "outputs": [],
   "source": []
  }
 ],
 "metadata": {
  "kernelspec": {
   "display_name": "Python 3 (ipykernel)",
   "language": "python",
   "name": "python3"
  },
  "language_info": {
   "codemirror_mode": {
    "name": "ipython",
    "version": 3
   },
   "file_extension": ".py",
   "mimetype": "text/x-python",
   "name": "python",
   "nbconvert_exporter": "python",
   "pygments_lexer": "ipython3",
   "version": "3.12.3"
  }
 },
 "nbformat": 4,
 "nbformat_minor": 5
}
