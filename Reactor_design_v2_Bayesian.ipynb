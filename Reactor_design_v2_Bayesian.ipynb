{
 "cells": [
  {
   "cell_type": "markdown",
   "id": "20a688eb-cf83-4a52-b942-3ffaf8e8c6c8",
   "metadata": {},
   "source": [
    "## Import library"
   ]
  },
  {
   "cell_type": "code",
   "execution_count": null,
   "id": "980d0a70-3a76-41fd-bea3-373cdd23897d",
   "metadata": {},
   "outputs": [],
   "source": [
    "from bayes_opt import BayesianOptimization, UtilityFunction\n",
    "from scipy.stats import qmc"
   ]
  },
  {
   "cell_type": "markdown",
   "id": "f1d65908-5b8c-469d-b2ec-241e57039e6b",
   "metadata": {},
   "source": [
    "## Objective function"
   ]
  },
  {
   "cell_type": "code",
   "execution_count": 2,
   "id": "e79fa2eb-4291-48f7-9e9f-7922d1b48714",
   "metadata": {},
   "outputs": [],
   "source": [
    "# Design a reactor with the provide parameters\n",
    "# Measure the RTD\n",
    "def rtd():\n",
    "    while True:\n",
    "        try:\n",
    "            rtd_value = float(input('Enter RTD value: '))\n",
    "            return -rtd_value # Nagative to minimize RTD\n",
    "        except ValueError:\n",
    "            print(\"Invalid input. Please enter a numeric RTD value.\")"
   ]
  },
  {
   "cell_type": "markdown",
   "id": "7cb1984f-0d8d-4217-88ed-f75ee5c0aefa",
   "metadata": {},
   "source": [
    "## Define parameter bounds"
   ]
  },
  {
   "cell_type": "code",
   "execution_count": 3,
   "id": "49faeabd-8b81-47b2-8b68-b40db91940fb",
   "metadata": {},
   "outputs": [],
   "source": [
    "# inlet_angle degree 0-60\n",
    "#  aspect_ratio width/length\n",
    "# RT inlet position\n",
    "pbounds = {'inlet_angle':(0,60),\n",
    "           'aspect':(0.2,0.6),\n",
    "           'residence_time':(1,10),\n",
    "          }"
   ]
  },
  {
   "cell_type": "markdown",
   "id": "d4faebf6-80a1-490f-a252-fff55658e3a2",
   "metadata": {},
   "source": [
    "## Define optimizer"
   ]
  },
  {
   "cell_type": "code",
   "execution_count": 4,
   "id": "6c0e1eb8-410f-47d8-8fb5-bcbed1a09b1c",
   "metadata": {},
   "outputs": [],
   "source": [
    "optimizer = BayesianOptimization(\n",
    "    f=None, # Function is manually evaluated through user input\n",
    "    pbounds=pbounds,\n",
    "    verbose=2,\n",
    "    random_state=1,\n",
    ")"
   ]
  },
  {
   "cell_type": "code",
   "execution_count": 5,
   "id": "f477178d-e293-42c1-b7be-2a372a472f43",
   "metadata": {},
   "outputs": [],
   "source": [
    "# 7 initial points \n",
    "initial_data = [\n",
    "    {'inlet_angle': 30, 'aspect': 0.24, 'residence_time': 2, 'variance': -0.103},\n",
    "    {'inlet_angle': 60, 'aspect': 0.24, 'residence_time': 6, 'variance': -0.158},\n",
    "    {'inlet_angle': 50, 'aspect': 0.40, 'residence_time': 5, 'variance': -0.157},\n",
    "    {'inlet_angle': 0, 'aspect': 0.40, 'residence_time': 1, 'variance': -0.367},\n",
    "    {'inlet_angle': 0, 'aspect': 0.30, 'residence_time': 3, 'variance': -0.220},\n",
    "    {'inlet_angle': 36, 'aspect': 0.35, 'residence_time': 8, 'variance': -0.433},\n",
    "    {'inlet_angle': 24, 'aspect': 0.30, 'residence_time': 10, 'variance': -0.207}\n",
    "]\n"
   ]
  },
  {
   "cell_type": "markdown",
   "id": "a028e406-39fb-4bb2-b5b6-4540d8b1c210",
   "metadata": {},
   "source": [
    "## Initial loop"
   ]
  },
  {
   "cell_type": "code",
   "execution_count": 6,
   "id": "2d2c146a-a1ee-4b4c-8940-919717a50a1f",
   "metadata": {},
   "outputs": [
    {
     "name": "stdout",
     "output_type": "stream",
     "text": [
      "Registering initial point: {'inlet_angle': 30, 'aspect': 0.24, 'residence_time': 2} with variance: -0.103\n",
      "Registering initial point: {'inlet_angle': 60, 'aspect': 0.24, 'residence_time': 6} with variance: -0.158\n",
      "Registering initial point: {'inlet_angle': 50, 'aspect': 0.4, 'residence_time': 5} with variance: -0.157\n",
      "Registering initial point: {'inlet_angle': 0, 'aspect': 0.4, 'residence_time': 1} with variance: -0.367\n",
      "Registering initial point: {'inlet_angle': 0, 'aspect': 0.3, 'residence_time': 3} with variance: -0.22\n",
      "Registering initial point: {'inlet_angle': 36, 'aspect': 0.35, 'residence_time': 8} with variance: -0.433\n",
      "Registering initial point: {'inlet_angle': 24, 'aspect': 0.3, 'residence_time': 10} with variance: -0.207\n"
     ]
    }
   ],
   "source": [
    "# Register predefined initial data points\n",
    "for data in initial_data:\n",
    "    params = {k: data[k] for k in ['inlet_angle', 'aspect', 'residence_time']}\n",
    "    target = data['variance']\n",
    "    \n",
    "    print(\"Registering initial point:\", params, \"with variance:\", target)\n",
    "    \n",
    "    optimizer.register(params=params, target=target)\n"
   ]
  },
  {
   "cell_type": "code",
   "execution_count": 7,
   "id": "662daf02-a464-4984-ac93-f56799d475da",
   "metadata": {},
   "outputs": [],
   "source": [
    "# 5 points initial iteration\n",
    "# num_init = 5\n",
    "# utility = UtilityFunction(kind='ei', xi=0.1)\n",
    "# for _ in range(num_init):\n",
    "#     next_point_to_probe = optimizer.suggest(utility)\n",
    "#     print('Reaction design conditions: ', next_point_to_probe)\n",
    "#     target = rtd()\n",
    "#     print(f'RTD value: {target}')\n",
    "\n",
    "#     # update model\n",
    "#     optimizer.register(\n",
    "#         params=next_point_to_probe,\n",
    "#         target=target,\n",
    "#     )"
   ]
  },
  {
   "cell_type": "markdown",
   "id": "ca94af72-ff96-42a7-8d0d-9b32546e5d8e",
   "metadata": {},
   "source": [
    "## Bayesian loop"
   ]
  },
  {
   "cell_type": "code",
   "execution_count": 8,
   "id": "f62f8f21-e678-4b90-8fed-5848297df6bf",
   "metadata": {},
   "outputs": [],
   "source": [
    "# 10 points Bayesian loop\n",
    "# num_iterations = 10\n",
    "# for _ in range(num_iterations):\n",
    "#     next_point_to_probe = optimizer.suggest(utility)\n",
    "#     print('Reaction design conditions: ', next_point_to_probe)\n",
    "#     target = rtd()\n",
    "#     print(f'RTD value: {target}')\n",
    "\n",
    "#     # update model\n",
    "#     optimizer.register(\n",
    "#         params=next_point_to_probe,\n",
    "#         target=target,\n",
    "#     )"
   ]
  },
  {
   "cell_type": "code",
   "execution_count": null,
   "id": "cd12efbf-15cd-4e6e-8154-5e5ba4159d31",
   "metadata": {},
   "outputs": [
    {
     "name": "stdout",
     "output_type": "stream",
     "text": [
      "Suggested next design: {'aspect': 0.5401667412372526, 'inlet_angle': 14.23189572951146, 'residence_time': 9.599563842514037}\n"
     ]
    },
    {
     "name": "stdin",
     "output_type": "stream",
     "text": [
      "Enter RTD value for this design:  0.067\n"
     ]
    },
    {
     "name": "stdout",
     "output_type": "stream",
     "text": [
      "RTD value: 0.067\n",
      "Suggested next design: {'aspect': 0.4833041522552059, 'inlet_angle': 15.076075594054663, 'residence_time': 9.227912452218613}\n"
     ]
    },
    {
     "name": "stdin",
     "output_type": "stream",
     "text": [
      "Enter RTD value for this design:  0.19\n"
     ]
    },
    {
     "name": "stdout",
     "output_type": "stream",
     "text": [
      "RTD value: 0.19\n",
      "Suggested next design: {'aspect': 0.41618389567419867, 'inlet_angle': 13.590978989401611, 'residence_time': 9.876838340040175}\n"
     ]
    },
    {
     "name": "stdin",
     "output_type": "stream",
     "text": [
      "Enter RTD value for this design:  0.063\n"
     ]
    },
    {
     "name": "stdout",
     "output_type": "stream",
     "text": [
      "RTD value: 0.063\n",
      "Suggested next design: {'aspect': 0.6, 'inlet_angle': 13.167019096158985, 'residence_time': 8.559428461011267}\n"
     ]
    }
   ],
   "source": [
    "# Define Utility Function (Encourage faster exploration)\n",
    "utility = UtilityFunction(kind='ei', xi=0.1)  # Expected Improvement (EI)\n",
    "\n",
    "# Start Bayesian Optimization Loop\n",
    "num_iterations = 10  # Increase if needed\n",
    "\n",
    "for _ in range(num_iterations):\n",
    "    next_point_to_probe = optimizer.suggest(utility)\n",
    "    print(\"Suggested next design:\", next_point_to_probe)\n",
    "\n",
    "    # Obtain RTD value (manual input or from a function)\n",
    "    target = float(input(\"Enter RTD value for this design: \"))\n",
    "    print(f\"RTD value: {target}\")\n",
    "\n",
    "    # Register new experimental result\n",
    "    optimizer.register(params=next_point_to_probe, target=-target)  # Minimize RTD"
   ]
  },
  {
   "cell_type": "markdown",
   "id": "c72f7a6f-4da9-412c-bebb-2e671ee6ed1f",
   "metadata": {},
   "source": [
    "## Plot "
   ]
  },
  {
   "cell_type": "code",
   "execution_count": null,
   "id": "1eea2d39-b912-44ed-8ae7-3ee2ba71856a",
   "metadata": {},
   "outputs": [],
   "source": []
  },
  {
   "cell_type": "code",
   "execution_count": null,
   "id": "d8baa4e6-6b12-4f0a-85d1-4592b1667e14",
   "metadata": {},
   "outputs": [],
   "source": []
  }
 ],
 "metadata": {
  "kernelspec": {
   "display_name": "Python 3 (ipykernel)",
   "language": "python",
   "name": "python3"
  },
  "language_info": {
   "codemirror_mode": {
    "name": "ipython",
    "version": 3
   },
   "file_extension": ".py",
   "mimetype": "text/x-python",
   "name": "python",
   "nbconvert_exporter": "python",
   "pygments_lexer": "ipython3",
   "version": "3.12.3"
  }
 },
 "nbformat": 4,
 "nbformat_minor": 5
}
